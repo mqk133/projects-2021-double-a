{
 "cells": [
  {
   "cell_type": "markdown",
   "metadata": {},
   "source": [
    "# Inaugural Project"
   ]
  },
  {
   "cell_type": "markdown",
   "metadata": {},
   "source": [
    "> **Note the following:** \n",
    "> 1. This is an example of how to structure your **inaugural project**.\n",
    "> 1. Remember the general advice on structuring and commenting your code from [lecture 5](https://numeconcopenhagen.netlify.com/lectures/Workflow_and_debugging).\n",
    "> 1. Remember this [guide](https://www.markdownguide.org/basic-syntax/) on markdown and (a bit of) latex.\n",
    "> 1. Turn on automatic numbering by clicking on the small icon on top of the table of contents in the left sidebar.\n",
    "> 1. The `inauguralproject.py` file includes a function which can be used multiple times in this notebook."
   ]
  },
  {
   "cell_type": "markdown",
   "metadata": {},
   "source": [
    "Using $p_h = h$ and combining the three constraints (2), (3) and (4) in order to get one constraint: \n",
    "$$m = rh + \\tau^gh\\epsilon + \\tau^p max[h\\epsilon - \\bar{p} , 0] + c$$\n",
    "$$c = m - rh - \\tau^gh\\epsilon - \\tau^p max[h\\epsilon - \\bar{p} , 0] $$"
   ]
  },
  {
   "cell_type": "markdown",
   "metadata": {},
   "source": [
    "Imports and set magics:"
   ]
  },
  {
   "cell_type": "code",
   "execution_count": 1,
   "metadata": {},
   "outputs": [],
   "source": [
    "import numpy as np\n",
    "\n",
    "# autoreload modules when code is run\n",
    "%load_ext autoreload\n",
    "%autoreload 2\n",
    "\n",
    "\n",
    "# local modules\n",
    "import inauguralproject\n",
    "from scipy import optimize"
   ]
  },
  {
   "cell_type": "markdown",
   "metadata": {},
   "source": [
    "# Question 1"
   ]
  },
  {
   "cell_type": "markdown",
   "metadata": {},
   "source": [
    "BRIEFLY EXPLAIN HOW YOU SOLVE THE MODEL."
   ]
  },
  {
   "cell_type": "code",
   "execution_count": 2,
   "metadata": {},
   "outputs": [
    {
     "output_type": "stream",
     "name": "stdout",
     "text": [
      "The optimal amount of housing is: h = 4.16667\nThe optimal amount of consumption is: c = 0.35000\nThe maximized utility is: u  = 0.73584\n"
     ]
    }
   ],
   "source": [
    "#Defining values\n",
    "m= 0.5\n",
    "phi = 0.3\n",
    "epsilon = 0.5\n",
    "r = 0.03\n",
    "tau_g = 0.012\n",
    "tau_p = 0.004\n",
    "p_bar = 3\n",
    "\n",
    "\n",
    "def u_func(c, h, phi):\n",
    "    \"\"\"\n",
    "    A function that computes the utillity of the household\n",
    "    Args:\n",
    "        c: (float) Amount of consumption \n",
    "        h: (float) Amount of housing\n",
    "        phi : (float) A parameter that determines the weights of h and c in the utility function\n",
    "        \n",
    "    Returns a float\n",
    "    \"\"\"\n",
    "    return c**(1-phi)*(h**phi)\n",
    "\n",
    "def c_func(h, m, r, tau_g, epsilon, tau_p, p_bar):\n",
    "    \"\"\"\n",
    "    A function that computes the consumption amount\n",
    "    Args:\n",
    "       m (float): cash on hand\n",
    "       r (float): interest rate\n",
    "       h (float): Amount of housing\n",
    "       tau_g (float): Base housing tax\n",
    "       epsilon (float): Public house pricing asessment factor\n",
    "       tau_p (float): Progressive housing tax\n",
    "       p_bar (float): Cutoff price for progressive tax \n",
    "    \n",
    "    Returns: \n",
    "    (float): Amount of consumption\n",
    "    \"\"\"\n",
    "    return m - r*h - tau_g * h * epsilon - tau_p * max(h*epsilon-p_bar,0)\n",
    "\n",
    "\n",
    "def objective_func(h, m, tau_g, tau_p, epsilon, p_bar, r, phi):\n",
    "    \"\"\"\n",
    "    Objective function to be minimized\n",
    "    Args:\n",
    "        h (float): Amount of housing\n",
    "        m (float): cash on hand\n",
    "        tau_g (float): Base housing tax\n",
    "        tau_p (float): Progressive housing tax\n",
    "        epsilon (float): Public house pricing asessment factor\n",
    "        p_bar (float): Cutoff price for progressive tax \n",
    "        r (float): interest rate\n",
    "        phi : (float) A parameter that determines the weights of h and c in the utility function\n",
    "        \n",
    "    Returns:\n",
    "        (float): Objective function\n",
    "        \n",
    "    \"\"\"\n",
    "    c = c_func(h, m, r, tau_g, epsilon, tau_p, p_bar)\n",
    "    \n",
    "    return -u_func(c, h, phi)\n",
    "\n",
    "\n",
    "def solver(m, tau_g, tau_p, epsilon, p_bar, r, phi):\n",
    "    \"\"\"\n",
    "    Solver function\n",
    "    Args:\n",
    "        m (float): cash on hand\n",
    "        tau_g (float): Base housing tax\n",
    "        tau_p (float): Progressive housing tax\n",
    "        epsilon (float): Public house pricing asessment factor\n",
    "        p_bar (float): Cutoff price for progressive tax \n",
    "        r (float): interest rate\n",
    "        phi : (float) A parameter that determines the weights of h and c in the utility function\n",
    "    \n",
    "    Return:\n",
    "    (array): Optimal amount of h, conditional on constraint\n",
    "    \n",
    "    \"\"\"\n",
    "\n",
    "    return optimize.minimize_scalar(objective_func, args=(m, tau_g, tau_p, epsilon, p_bar, r, phi), \n",
    "                                   bounds= None)\n",
    "\n",
    "\n",
    "h_best = solver(m, tau_g, tau_p, epsilon, p_bar, r, phi).x\n",
    "c_best = c_func(h_best, m, r, tau_g, epsilon, tau_p, p_bar)\n",
    "u_best = u_func(c_best, h_best, phi)\n",
    "\n",
    "print(f'The optimal amount of housing is: h = {h_best:.5f}')\n",
    "print(f'The optimal amount of consumption is: c = {c_best:.5f}')\n",
    "print(f'The maximized utility is: u  = {u_best:.5f}')\n",
    "\n"
   ]
  },
  {
   "cell_type": "markdown",
   "metadata": {},
   "source": [
    "# Question 2"
   ]
  },
  {
   "cell_type": "markdown",
   "metadata": {},
   "source": [
    "ADD ANSWER."
   ]
  },
  {
   "cell_type": "code",
   "execution_count": 28,
   "metadata": {},
   "outputs": [],
   "source": [
    "# anni ændrer i projektet\n",
    "h_list=[]\n",
    "c_list=[]\n",
    "m_list=[]\n",
    "\n",
    "for m in np.arange(0.4, 1.5, 0.01):\n",
    "    h_best = solver(m, tau_g, tau_p, epsilon, p_bar, r, phi).x\n",
    "    c_best = c_func(h_best, m, r, tau_g, epsilon, tau_p, p_bar)\n",
    "    h_list.append(h_best)\n",
    "    c_list.append(c_best)\n",
    "    m_list.append(m)\n",
    "\n",
    "h_list_array=np.array(h_list)\n",
    "c_list_array=np.array(c_list)\n",
    "m_list_array=np.array(m_list)"
   ]
  },
  {
   "cell_type": "code",
   "execution_count": null,
   "metadata": {},
   "outputs": [],
   "source": [
    "#figur"
   ]
  },
  {
   "source": [
    "# Question 3"
   ],
   "cell_type": "markdown",
   "metadata": {}
  },
  {
   "cell_type": "markdown",
   "metadata": {},
   "source": [
    "ADD ANSWER."
   ]
  },
  {
   "cell_type": "code",
   "execution_count": 32,
   "metadata": {},
   "outputs": [],
   "source": [
    "# code\n"
   ]
  },
  {
   "cell_type": "markdown",
   "metadata": {},
   "source": [
    "# Question 4"
   ]
  },
  {
   "cell_type": "markdown",
   "metadata": {},
   "source": [
    "ADD ANSWER."
   ]
  },
  {
   "cell_type": "code",
   "execution_count": 5,
   "metadata": {},
   "outputs": [],
   "source": [
    "# code"
   ]
  },
  {
   "cell_type": "markdown",
   "metadata": {},
   "source": [
    "# Question 5"
   ]
  },
  {
   "cell_type": "markdown",
   "metadata": {},
   "source": [
    "ADD ANSWER."
   ]
  },
  {
   "cell_type": "code",
   "execution_count": 6,
   "metadata": {},
   "outputs": [],
   "source": [
    "# code"
   ]
  },
  {
   "cell_type": "markdown",
   "metadata": {},
   "source": [
    "# Conclusion"
   ]
  },
  {
   "cell_type": "markdown",
   "metadata": {},
   "source": [
    "ADD CONCISE CONLUSION."
   ]
  }
 ],
 "metadata": {
  "kernelspec": {
   "display_name": "Python 3",
   "language": "python",
   "name": "python3"
  },
  "language_info": {
   "codemirror_mode": {
    "name": "ipython",
    "version": 3
   },
   "file_extension": ".py",
   "mimetype": "text/x-python",
   "name": "python",
   "nbconvert_exporter": "python",
   "pygments_lexer": "ipython3",
   "version": "3.8.5-final"
  },
  "toc-autonumbering": true
 },
 "nbformat": 4,
 "nbformat_minor": 4
}
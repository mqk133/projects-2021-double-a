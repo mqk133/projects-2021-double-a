{
 "cells": [
  {
   "cell_type": "markdown",
   "metadata": {},
   "source": [
    "# Inaugural Project"
   ]
  },
  {
   "cell_type": "markdown",
   "metadata": {},
   "source": [
    "Using $p_h = h$ and combining the three constraints (2), (3) and (4) in order to get one constraint: \n",
    "$$m = rh + \\tau^gh\\epsilon + \\tau^p max[h\\epsilon - \\bar{p} , 0] + c$$\n",
    "$$c = m - rh - \\tau^gh\\epsilon - \\tau^p max[h\\epsilon - \\bar{p} , 0] $$"
   ]
  },
  {
   "cell_type": "markdown",
   "metadata": {},
   "source": [
    "Imports and set magics:"
   ]
  },
  {
   "cell_type": "code",
   "execution_count": 51,
   "metadata": {},
   "outputs": [
    {
     "name": "stdout",
     "output_type": "stream",
     "text": [
      "The autoreload extension is already loaded. To reload it, use:\n",
      "  %reload_ext autoreload\n"
     ]
    }
   ],
   "source": [
    "import numpy as np\n",
    "import math\n",
    "from statistics import mean\n",
    "\n",
    "# autoreload modules when code is run\n",
    "%load_ext autoreload\n",
    "%autoreload 2\n",
    "\n",
    "\n",
    "# local modules\n",
    "import inauguralproject\n",
    "from scipy import optimize \n",
    "import matplotlib.pyplot as plt"
   ]
  },
  {
   "cell_type": "markdown",
   "metadata": {},
   "source": [
    "# Question 1"
   ]
  },
  {
   "cell_type": "markdown",
   "metadata": {},
   "source": [
    "We define four functions. One that computes the utility of the household.\n",
    "A function that computes the amount of consumption.\n",
    "An objective function that is to be minimized.\n",
    "A solver function that maximizes the utility with respect to the constraint"
   ]
  },
  {
   "cell_type": "code",
   "execution_count": 52,
   "metadata": {},
   "outputs": [
    {
     "name": "stdout",
     "output_type": "stream",
     "text": [
      "The optimal amount of housing is: h = 4.16667\n",
      "The optimal amount of consumption is: c = 0.35000\n",
      "The maximized utility is: u  = 0.73584\n"
     ]
    }
   ],
   "source": [
    "#Defining values and parameters\n",
    "m= 0.5\n",
    "parameters = {'phi': 0.3, 'epsilon': 0.5, 'r': 0.03, 'tau_g':0.012, 'tau_p': 0.004, 'p_bar': 3}\n",
    "\n",
    "\n",
    "def u_func(c, h, parameters):\n",
    "    \"\"\"\n",
    "    A function that computes the utillity of the household\n",
    "    Args:\n",
    "        c (float): Amount of consumption \n",
    "        h (float): Amount of housing\n",
    "        parameters (dict): Parameters of the model\n",
    "        \n",
    "    Returns a float\n",
    "    \"\"\"\n",
    "    return c**(1-parameters['phi'])*(h**parameters['phi'])\n",
    "\n",
    "\n",
    "def c_func(h, m, parameters):\n",
    "    \"\"\"\n",
    "    A function that computes the consumption amount\n",
    "    Args:\n",
    "       m (float): cash on hand\n",
    "       h (float): Amount of housing\n",
    "       parameters (dict): Parameters of the model\n",
    "    \n",
    "    Returns: \n",
    "    (float): Amount of consumption\n",
    "    \"\"\"\n",
    "    return m - parameters['r']*h - parameters['tau_g'] * h * parameters['epsilon'] - parameters['tau_p'] * max(h*parameters['epsilon']-parameters['p_bar'],0)\n",
    "\n",
    "\n",
    "def objective_func(h, m, parameters):\n",
    "    \"\"\"\n",
    "    Objective function to be minimized\n",
    "    Args:\n",
    "        h (float): Amount of housing\n",
    "        m (float): cash on hand\n",
    "        parameters (dict): Parameters of the model\n",
    "        \n",
    "    Returns:\n",
    "        (float): Objective function\n",
    "        \n",
    "    \"\"\"\n",
    "    c = c_func(h, m, parameters)\n",
    "    \n",
    "    return -u_func(c, h, parameters)\n",
    "\n",
    "\n",
    "def solver(m, parameters):\n",
    "    \"\"\"\n",
    "    Solver function\n",
    "    Args:\n",
    "        m (float): cash on hand\n",
    "        parameters (dict): Parameters of the model\n",
    "    \n",
    "    Return:\n",
    "    (array): Optimal amount of h, conditional on constraint\n",
    "    \n",
    "    \"\"\"\n",
    "\n",
    "    return optimize.minimize_scalar(objective_func, args=(m, parameters), \n",
    "                                   bounds= None)\n",
    "\n",
    "\n",
    "h_best = solver(m, parameters).x\n",
    "c_best = c_func(h_best, m, parameters)\n",
    "u_best = u_func(c_best, h_best, parameters)\n",
    "\n",
    "print(f'The optimal amount of housing is: h = {h_best:.5f}')\n",
    "print(f'The optimal amount of consumption is: c = {c_best:.5f}')\n",
    "print(f'The maximized utility is: u  = {u_best:.5f}')\n"
   ]
  },
  {
   "cell_type": "markdown",
   "metadata": {},
   "source": [
    "# Question 2"
   ]
  },
  {
   "cell_type": "markdown",
   "metadata": {},
   "source": [
    "Plotting $c^*$ and $h^*$ as a function of m\n",
    "\n",
    "We run a for loop where we solve the model for different levels of m.\n",
    "For each level of m, we store the optimal values of $c^*$ and $h^*$ in lists.\n",
    "At last we plot the values against m.\n"
   ]
  },
  {
   "cell_type": "code",
   "execution_count": 53,
   "metadata": {},
   "outputs": [
    {
     "data": {
      "image/png": "[encoded data removed]",
      "text/plain": [
       "<Figure size 432x288 with 2 Axes>"
      ]
     },
     "metadata": {
      "needs_background": "light"
     },
     "output_type": "display_data"
    }
   ],
   "source": [
    "# Creating empty lists\n",
    "h_list=[]\n",
    "c_list=[]\n",
    "m_list=[]\n",
    "\n",
    "# For loop where we solve the model with different levels of m\n",
    "for m in np.arange(0.4, 1.5, 0.01):\n",
    "    h_best = solver(m, parameters).x\n",
    "    c_best = c_func(h_best, m, parameters)\n",
    "    h_list.append(h_best)    # Storing optimal values in lists..\n",
    "    c_list.append(c_best)\n",
    "    m_list.append(m)\n",
    "\n",
    "# Figure of h and c as a function of m\n",
    "\n",
    "# c. left plot\n",
    "fig = plt.figure()\n",
    "ax_left = fig.add_subplot(1,2,1)\n",
    "\n",
    "ax_left.plot(m_list,h_list)\n",
    "\n",
    "ax_left.set_title('Figur 1. $h^*$ against m')\n",
    "ax_left.set_xlabel('$m$')\n",
    "ax_left.set_ylabel('$h^*$')\n",
    "ax_left.grid(True)\n",
    "\n",
    "# c. right plot\n",
    "ax_right = fig.add_subplot(1,2,2)\n",
    "\n",
    "ax_right.plot(m_list,c_list)\n",
    "\n",
    "ax_right.set_title('Figur 2. $c^*$ against m')\n",
    "ax_right.set_xlabel('$m$')\n",
    "ax_right.set_ylabel('$c^*$')\n",
    "ax_right.grid(True)\n",
    "plt.tight_layout()\n",
    "\n",
    "\n",
    "\n"
   ]
  },
  {
   "cell_type": "markdown",
   "metadata": {},
   "source": [
    "We see that the optimal values of h and c increases as m increases. <br>\n",
    "The plateau on figure 1 is the tipping point where progressive housing tax is introduced. <br>\n",
    "On figure 2 we see that at the same level of m, the slope of the curve is increased in one point. <br>\n",
    "This is because money on hand is increasing, but the househould does not spend more on housing on the tipping point of the progressive tax. \n",
    "\n",
    "\n",
    "\n"
   ]
  },
  {
   "cell_type": "markdown",
   "metadata": {},
   "source": [
    "# Question 3"
   ]
  },
  {
   "cell_type": "markdown",
   "metadata": {},
   "source": [
    "Calculating the average tax burden of the 10000 households. <br>\n",
    "First we define a function that computes the taxburden of a household. <br>\n",
    "Then we use a for loop to run the function over the 10000 different households. <br>\n",
    "We store the values of taxburden into a list, and then we print the mean tax burden."
   ]
  },
  {
   "cell_type": "code",
   "execution_count": 54,
   "metadata": {},
   "outputs": [
    {
     "name": "stdout",
     "output_type": "stream",
     "text": [
      "The average tax burden is:  0.03633\n"
     ]
    }
   ],
   "source": [
    "# Setting seednumber 1\n",
    "np.random.seed(1)\n",
    "\n",
    "\n",
    "def tax_burden(h, parameters):\n",
    "    \"\"\"\n",
    "    Function that computes the tax burden of the household\n",
    "    Args:\n",
    "        h (float): Amount of housing\n",
    "        parameters (dict): The parameters used in the model\n",
    "    \n",
    "    Return:\n",
    "    (float): Tax burden of the household\n",
    "    \"\"\"\n",
    "    return parameters['tau_g']*h*parameters['epsilon'] + parameters['tau_p']*max(h*parameters['epsilon'] - parameters['p_bar'], 0)\n",
    "\n",
    "# Computes 10.000 random values of m in log-normal distribution\n",
    "# With mean -0.4 and variance 0.35\n",
    "m_random = np.random.lognormal(-0.4,0.35,10000)\n",
    "\n",
    "\n",
    "# Empty list\n",
    "household_tax = []\n",
    "\n",
    "# For loop: Computing h_best and running the tax_burden function for the 10.000 households\n",
    "for m in m_random:\n",
    "        h_best = solver(m, parameters).x\n",
    "        household_tax.append(tax_burden(h_best, parameters)) \n",
    "\n",
    "        \n",
    "print(f'The average tax burden is: {mean(household_tax): .5f}')\n",
    "\n"
   ]
  },
  {
   "cell_type": "markdown",
   "metadata": {},
   "source": [
    "# Question 4"
   ]
  },
  {
   "cell_type": "markdown",
   "metadata": {},
   "source": [
    "Changing some of the parameter values and computing average tax burden"
   ]
  },
  {
   "cell_type": "code",
   "execution_count": 55,
   "metadata": {},
   "outputs": [
    {
     "name": "stdout",
     "output_type": "stream",
     "text": [
      "The new average tax burden is:  0.04504\n"
     ]
    }
   ],
   "source": [
    "# Creating new dictionary with new parameter values\n",
    "new_parameters = {'phi': 0.3, 'epsilon': 0.8, 'r': 0.03, 'tau_g':0.01, 'tau_p': 0.009, 'p_bar': 8}\n",
    "\n",
    "\n",
    "# Empty list\n",
    "new_household_tax = []\n",
    "\n",
    "# For loop: Computing h_best and running the tax_burden function for the 10.000 households\n",
    "for m in m_random:\n",
    "        h_best = solver(m, new_parameters).x\n",
    "        new_household_tax.append(tax_burden(h_best, new_parameters)) \n",
    "\n",
    "print(f'The new average tax burden is: {mean(new_household_tax): 0.5f}')\n",
    "\n"
   ]
  },
  {
   "cell_type": "markdown",
   "metadata": {},
   "source": [
    "\n",
    "Since $\\epsilon$ is increased the public assesment of the house values are increased, this will give higher taxe burden.<br>\n",
    "The tax rate $\\tau_g$ is decreased which will lead to lower tax burden. <br>\n",
    "The progressive tax rate $\\tau_p$ is increased which will lead to a higher tax burden. <br>\n",
    "The cut off is increased which will lead to a lower tax burden. <br>\n",
    "Hence, we see contradicting changes. <br>\n",
    "The new average tax burden is higher than before, meaning that the increase of $\\epsilon$ and $\\tau_p$ is dominating."
   ]
  },
  {
   "cell_type": "markdown",
   "metadata": {},
   "source": [
    "# Question 5"
   ]
  },
  {
   "cell_type": "markdown",
   "metadata": {},
   "source": [
    "Finding $\\tau_g$ that gives us the same average tax burden as prior to the changes, using the new parameters. <br>\n",
    "NOTE: The code might take long to run with N=10.000. N can be changed under Q3"
   ]
  },
  {
   "cell_type": "code",
   "execution_count": 48,
   "metadata": {},
   "outputs": [
    {
     "name": "stdout",
     "output_type": "stream",
     "text": [
      " The new tau_g is: tau_g = 0.00741\n",
      " The average tax burden is:  0.03541\n"
     ]
    }
   ],
   "source": [
    "\n",
    "optimized_tau_g = None\n",
    "\n",
    "# Parameters with tau_g = 0\n",
    "optimized_parameters = {'phi': 0.3, 'epsilon': 0.8, 'r': 0.03, 'tau_g':0, 'tau_p': 0.009, 'p_bar': 8}\n",
    "\n",
    "\n",
    "# While-loop that runs until tau_g has been optimized\n",
    "while optimized_tau_g is None:\n",
    "    \n",
    "    new_new_household_tax = []   # Creating empty list to compute average taxburden\n",
    "    \n",
    "    # For that computes a list of taxburdens\n",
    "    for m in m_random:\n",
    "        h_best = solver(m, optimized_parameters).x                                       # Solving for the best h value\n",
    "        new_new_household_tax.append(tax_burden(h_best, optimized_parameters))           # Appending taxburden to the empty list\n",
    "    \n",
    "    # Check if average taxburd is equal to taxburden in Q3\n",
    "    if math.isclose(mean(new_new_household_tax), mean(household_tax), abs_tol=0.001):    # True if average taxburden is close enough to avg.taxburden in Q3\n",
    "        optimized_tau_g = optimized_parameters['tau_g']                                  # Storing tau_g and stopping while-loop\n",
    "       \n",
    "    # When average taxburden is not close enough, add value to tau_g and try again\n",
    "    else:\n",
    "        optimized_parameters['tau_g'] = optimized_parameters['tau_g'] + 0.00001          # Adding 0.00001 to tau_g\n",
    "\n",
    "        \n",
    "        \n",
    "# Printing results:\n",
    "\n",
    "print(f' The new tau_g is: tau_g = {optimized_tau_g:.5f}')\n",
    "print(f' The average tax burden is: {mean(new_new_household_tax): .5f}')\n",
    "\n",
    "\n",
    "        "
   ]
  },
  {
   "cell_type": "markdown",
   "metadata": {},
   "source": [
    "$\\tau_g$ needs to be lowered in order to keep the same average taxburden as prior to the parameter changes."
   ]
  }
 ],
 "metadata": {
  "kernelspec": {
   "display_name": "Python 3",
   "language": "python",
   "name": "python3"
  },
  "language_info": {
   "codemirror_mode": {
    "name": "ipython",
    "version": 3
   },
   "file_extension": ".py",
   "mimetype": "text/x-python",
   "name": "python",
   "nbconvert_exporter": "python",
   "pygments_lexer": "ipython3",
   "version": "3.8.5"
  },
  "toc-autonumbering": true
 },
 "nbformat": 4,
 "nbformat_minor": 4
}
